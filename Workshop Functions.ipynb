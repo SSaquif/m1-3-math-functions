{
 "cells": [
  {
   "cell_type": "markdown",
   "metadata": {
    "colab_type": "text",
    "id": "aX9oCHrXqhIj"
   },
   "source": [
    "# 1. Math Drills\n",
    "\n",
    "Give an example of a binary relation on a set which is\n",
    "\n",
    "1. Reflexive and symmetric, but not transitive  \n",
    "2. Reflexive, but neither symmetric nor transitive  \n",
    "3. Symmetric, but neither reflexive nor transitive  \n",
    "4. Transitive, but neither reflexive nor symmetric  \n",
    "\n",
    "Recall the definitions from the lectures if you need to!"
   ]
  },
  {
   "cell_type": "markdown",
   "metadata": {},
   "source": [
    "### Useful Resources\n",
    "[Video](https://www.youtube.com/watch?v=6fwJj14O_TM)"
   ]
  },
  {
   "cell_type": "code",
   "execution_count": 1,
   "metadata": {},
   "outputs": [
    {
     "data": {
      "text/plain": [
       "{(1, 2), (1, 3), (2, 3)}"
      ]
     },
     "execution_count": 1,
     "metadata": {},
     "output_type": "execute_result"
    }
   ],
   "source": [
    "# The set we will map our relations to\n",
    "setA = {1,2,3}\n",
    "\n",
    "# 1. Reflexive and Symmetric, but not Transitive\n",
    "# No (1,3), so not transitive \n",
    "{(1,1),(2,2),(3,3),(1,2),(2,3),(3,2),(2,1)}\n",
    "\n",
    "# 2. Reflexive but not Symmetric or Transitive\n",
    "# Not Symmetric because no (2,1) or (3,2)\n",
    "# Not Transitive because no (1,3)  \n",
    "{(1,1),(2,2),(3,3),(1,2),(2,3)}\n",
    "\n",
    "# 3. Symmetric, but neither reflexive nor transitive\n",
    "# Not Reflexive because no (1,1) or (2,2) or (3,3)\n",
    "# Not Transitive because no (2,3) or (3,2)  \n",
    "{(1,2),(1,3),(2,1),(3,1)}\n",
    "\n",
    "# 4. Transitive, but neither reflexive nor symmetric\n",
    "# Not Reflexive because no (1,1) or (2,2) or (3,3)\n",
    "# Not Symmetric because no (2,1) or (3,1) or (3,2) \n",
    "{(1,2),(2,3),(1,3)}"
   ]
  },
  {
   "cell_type": "markdown",
   "metadata": {},
   "source": [
    "# Exercise 2: A bunch of Math!\n",
    "\n",
    "## Polynomial\n",
    "\n",
    "Consider the polynomial\n",
    "\n",
    "$$\n",
    "p(x)\n",
    "= a_0 + a_1 x + a_2 x^2 + \\cdots a_n x^n\n",
    "= \\sum_{i=0}^n a_i x^i \\tag{1}\n",
    "$$\n",
    "\n",
    "Write a function `p` such that `p(x, coeff)` that computes the value in given a point `x` and a list of coefficients `coeff`.\n",
    "\n",
    "```\n",
    "p(5, [1, 1]) = 1 + 5 = 6\n",
    "p(5, [2, 1, 1]) = 2 + 5 + 25 = 32\n",
    "```"
   ]
  },
  {
   "cell_type": "code",
   "execution_count": 2,
   "metadata": {},
   "outputs": [
    {
     "name": "stdout",
     "output_type": "stream",
     "text": [
      "6\n",
      "32\n"
     ]
    }
   ],
   "source": [
    "def p(x,coeff):\n",
    "    res = 0\n",
    "    for i, value in enumerate(coeff):\n",
    "        res += value*(x**i)\n",
    "    return res\n",
    "\n",
    "print(p(5, [1, 1]))\n",
    "print(p(5, [2, 1, 1]))"
   ]
  },
  {
   "cell_type": "markdown",
   "metadata": {},
   "source": [
    "# Variance\n",
    "\n",
    "Define a function named `var` that takes a list of numbers and computes the variance. The variance is:\n",
    "\n",
    "$$variance(x) = \\frac{∑_i^N(x_i − average(x))^2}{N-1}$$\n",
    "\n",
    "Don't cheat and use `numpy.var`! You should only use that function to test that your function is correct"
   ]
  },
  {
   "cell_type": "code",
   "execution_count": 3,
   "metadata": {},
   "outputs": [
    {
     "name": "stdout",
     "output_type": "stream",
     "text": [
      "My function: 1176.6666666666667\n",
      "numpy var: 1176.6666666666667\n"
     ]
    }
   ],
   "source": [
    "# Needed to test\n",
    "from numpy import var\n",
    "\n",
    "def variance(numList):\n",
    "    mean = sum(numList)/len(numList)\n",
    "    \n",
    "    numerator = sum(((x - mean)**2) for i, x in enumerate(numList))\n",
    "       \n",
    "    return numerator/(len(numList)-1)\n",
    "\n",
    "print(f\"My function: {variance([10,20,10,0,70,80])}\")\n",
    "print(f\"numpy var: {var([10,20,10,0,70,80], ddof=1)}\")"
   ]
  },
  {
   "cell_type": "markdown",
   "metadata": {},
   "source": [
    "# RMSE\n",
    "\n",
    "Calculate the root mean squared error (RMSE) of a machine learning model's output. The function takes in two lists: one with actual values, one with predictions. The formula for RMSE is:\n",
    "\n",
    "$$RMSE(y_1, y_2) = \\sqrt{\\dfrac{1}{N} \\sum_{i=1}^N (y_{1i} - y_{2i})^2}$$\n",
    "\n",
    "```\n",
    "    rmse([1, 2], [1, 2]) = 0\n",
    "    rmse([1, 2, 3], [3, 2, 1]) = 1.63\n",
    "```\n",
    "\n",
    "You can use \n",
    "\n",
    "```\n",
    "sklearn.metrics.mean_squared_error(y_actual, y_predicted, squared=False)\n",
    "```\n",
    "\n",
    "To test your function"
   ]
  },
  {
   "cell_type": "code",
   "execution_count": 4,
   "metadata": {},
   "outputs": [
    {
     "name": "stdout",
     "output_type": "stream",
     "text": [
      "0.0\n",
      "1.632993161855452\n",
      "Invalid Input: Lists must be of same length\n"
     ]
    }
   ],
   "source": [
    "import math\n",
    "\n",
    "def rmse(list1,list2):\n",
    "    if len(list1) != len(list2):\n",
    "        return \"Invalid Input: Lists must be of same length\"\n",
    "    \n",
    "    summation = sum(((y1-y2)**2) for y1,y2 in zip(list1,list2))\n",
    "    return math.sqrt(summation/len(list1))\n",
    "\n",
    "print(rmse([1, 2], [1, 2]))\n",
    "print(rmse([1, 2, 3], [3, 2, 1]))\n",
    "print(rmse([1, 2, 3], [3, 2, 1, 4]))"
   ]
  },
  {
   "cell_type": "markdown",
   "metadata": {},
   "source": [
    "# Jaccard Similarity\n",
    "\n",
    "The Jaccard similarity between two sets is the size of intersection divided by the size of union. Write a function that computes it:\n",
    "\n",
    "$$jaccard(A, B) = \\dfrac{|A \\cap B|}{|A \\cup B|}$$\n",
    "\n",
    "\n",
    "```\n",
    "jaccard({'a', 'b', 'c'}, {'a', 'd'}) = 1 / 4\n",
    "```\n",
    "\n"
   ]
  },
  {
   "cell_type": "code",
   "execution_count": 5,
   "metadata": {},
   "outputs": [
    {
     "name": "stdout",
     "output_type": "stream",
     "text": [
      "0.25\n"
     ]
    }
   ],
   "source": [
    "jaccard = lambda set1, set2: len(set1.intersection(set2))/len(set1.union(set2))\n",
    "\n",
    "print(jaccard({'a', 'b', 'c'}, {'a', 'd'}))"
   ]
  },
  {
   "cell_type": "markdown",
   "metadata": {},
   "source": [
    "# Exercise 3\n",
    "\n",
    "First, write a function that returns one realization of the following random device\n",
    "\n",
    "1. Flip an unbiased coin 10 times.  \n",
    "1. If a head occurs `k` or more times consecutively within this sequence at least once, pay one dollar.  \n",
    "1. If not, pay nothing.  \n",
    "\n",
    "\n",
    "Second, write another function that does the same task except that the second rule of the above random device becomes\n",
    "\n",
    "- If a head occurs `k` or more times within this sequence, pay one dollar.  \n",
    "\n",
    "\n",
    "Use no import besides `from numpy.random import uniform`."
   ]
  },
  {
   "cell_type": "markdown",
   "metadata": {},
   "source": [
    "### Question\n",
    "1. Wouldn't using random.randint(0,1) be a better option here?"
   ]
  },
  {
   "cell_type": "code",
   "execution_count": 6,
   "metadata": {},
   "outputs": [
    {
     "name": "stdout",
     "output_type": "stream",
     "text": [
      "You Lose\n",
      "Your tosses were ['tail', 'tail', 'tail', 'head', 'tail', 'head', 'head', 'head', 'tail', 'tail']\n",
      "You needed 4 consecutive Head(s)\n",
      "You had 3 consecutive Head(s)\n"
     ]
    }
   ],
   "source": [
    "from numpy.random import uniform\n",
    "\n",
    "def pay_10(k):\n",
    "    consecutive_heads = 0\n",
    "    max_heads = 0 \n",
    "    tosses = uniform(0,1,10)\n",
    "    \n",
    "    tossesStr = []\n",
    "    \n",
    "    #To test a complex case\n",
    "    #tossesStr = ['head', 'tail', 'head', 'tail', 'head', 'head', 'head', 'tail', 'head', 'tail']\n",
    "    \n",
    "    # Assigning a string value to tosses, so it's easier to read\n",
    "    for i, value in enumerate(tosses):\n",
    "        if value > 0.5:\n",
    "            tossesStr.append('head')\n",
    "        else:\n",
    "            tossesStr.append('tail')            \n",
    "    \n",
    "    for i, currentToss in enumerate(tossesStr):\n",
    "        lastToss = None\n",
    "        \n",
    "        if i == 0 and currentToss == 'head':\n",
    "            consecutive_heads += 1\n",
    "            max_heads = consecutive_heads\n",
    "        \n",
    "        elif i != 0:\n",
    "            lastToss = tossesStr[i-1]\n",
    "            \n",
    "            if currentToss == 'head' and lastToss == 'head':\n",
    "                consecutive_heads += 1\n",
    "                if consecutive_heads > max_heads:\n",
    "                    max_heads = consecutive_heads          \n",
    "            \n",
    "            elif currentToss == 'tail' and lastToss == 'head':\n",
    "                if consecutive_heads > max_heads:\n",
    "                    max_heads = consecutive_heads\n",
    "                \n",
    "                consecutive_heads = 0\n",
    "                \n",
    "            elif currentToss == 'head' and lastToss == 'tail':\n",
    "                consecutive_heads = 1        \n",
    "    \n",
    "    if max_heads >= k:\n",
    "        print(f\"You Win $1.00\")\n",
    "        print(f\"Your tosses were {tossesStr}\")\n",
    "        print(f\"You needed {k} consecutive Heads\")\n",
    "        print(f\"You had {max_heads} consecutive Heads\")\n",
    "    else:\n",
    "        print(f\"You Lose\")\n",
    "        print(f\"Your tosses were {tossesStr}\")\n",
    "        print(f\"You needed {k} consecutive Head(s)\")\n",
    "        print(f\"You had {max_heads} consecutive Head(s)\")\n",
    "            \n",
    "pay_10(4)"
   ]
  },
  {
   "cell_type": "code",
   "execution_count": 7,
   "metadata": {},
   "outputs": [
    {
     "name": "stdout",
     "output_type": "stream",
     "text": [
      "You Lose\n",
      "Your tosses were ['head', 'tail', 'head', 'tail', 'tail', 'tail', 'tail', 'head', 'tail', 'head']\n",
      "You needed 5 Heads\n",
      "You had 4 Heads\n"
     ]
    }
   ],
   "source": [
    "def pay_10_update(k):\n",
    "    heads = 0\n",
    "    tosses = uniform(0,1,10)\n",
    "    tossesStr = []\n",
    "    \n",
    "    for i, value in enumerate(tosses):\n",
    "        if value > 0.5:\n",
    "            heads += 1\n",
    "            tossesStr.append('head')\n",
    "        else:\n",
    "            tossesStr.append('tail')\n",
    "    \n",
    "    if heads >= k:\n",
    "        print(f\"You Win $1.00\")\n",
    "        print(f\"Your tosses were {tossesStr}\")\n",
    "        print(f\"You needed {k} Heads\")\n",
    "        print(f\"You had {heads} Heads\")\n",
    "    else:\n",
    "        print(f\"You Lose\")\n",
    "        print(f\"Your tosses were {tossesStr}\")\n",
    "        print(f\"You needed {k} Heads\")\n",
    "        print(f\"You had {heads} Heads\")\n",
    "    \n",
    "pay_10_update(5)"
   ]
  },
  {
   "cell_type": "markdown",
   "metadata": {},
   "source": [
    "# Exercise 4: Logistic Map fixed point\n",
    "\n",
    "The **Logistic Map** is a famous function from Chaos Theory which is defined as:\n",
    "\n",
    "$$x_{t+1} = r \\cdot x_t(1−x_t)$$\n",
    "\n",
    "with the conditions:\n",
    "\n",
    "$$x_0 ∈ [0,1], r ∈[0,4]$$\n",
    "\n",
    "Write a lambda $f = logistic(x, r)$, that's successively applied to itself $n$ times through a second function `logistic_n_times(x0, f, r, n)` with the inital point $X_0$\n",
    "\n",
    "Make a few runs of this for various values of `x0` and `r`. Answer the following:\n",
    "\n",
    "- Can you find a fixed point? \n",
    "\n",
    "- At what values of `r` are there fixed points? \n",
    "\n",
    "- Are there any ranges of input for which the function is an attractor?"
   ]
  },
  {
   "cell_type": "code",
   "execution_count": 8,
   "metadata": {},
   "outputs": [],
   "source": [
    "logistic = lambda x, growth_rate: growth_rate * x * (1-x)\n",
    "\n",
    "def logistic_n_times(x0, f, r, n):\n",
    "    if x0 < 0 or x0 > 1:\n",
    "        return f\"invalid value of x0\"\n",
    "    \n",
    "    if r <0 or r> 4:\n",
    "        return f\"invalid value of r\"\n",
    "    \n",
    "    all_x = []\n",
    "    x = x0\n",
    "    for i in range(n):       \n",
    "        all_x.append(x)\n",
    "        x = logistic(x,r)\n",
    "    \n",
    "    return all_x\n",
    "\n",
    "# print(logistic_n_times(0.5, logistic, 2, 50))"
   ]
  },
  {
   "cell_type": "markdown",
   "metadata": {},
   "source": [
    "### Solutions\n",
    "\n",
    "__Questions:__\n",
    "1. Can you find a fixed point?\n",
    "2. At what values of r are there fixed points?\n",
    "\n",
    "__Answers:__\n",
    "1. for r < 3, x always approaches a fixed point\n",
    "2. for 3 <= r <= 1 + √6 ≈ 3.44949, x approaches 2 fixed points and then oscilates between them\n",
    "3. for r > 1 + √6 ≈ 3.44949, the number of fixed point increases from 4, 8 16 to total chaos that x becomes very unpredictable\n",
    "\n",
    "_Have plotted the 3 cases below_\n",
    "\n",
    "__Questions:__\n",
    "3. Are there any ranges of input for which the function is an attractor?\n",
    "\n",
    "__Answer:__\n",
    "\n",
    "Since an attractor is a set of numerical values toward which a system tends to evolve, for a wide variety of starting conditions of the system, so the function is an attractor when it reaches its fixed value for those particular initial conditions. In the Bifurcation diagram, the attractor for any value for paramaeter r would be on the vertical line drawn at that r.\n",
    "\n",
    "__Resources:__\n",
    "1. [Video 1](https://www.youtube.com/watch?v=k2etiDVaSB4)\n",
    "2. [Video 2](https://www.youtube.com/watch?v=ovJcsL7vyrk&t=784s)\n",
    "3. [Logistic Map Behaviour](https://en.wikipedia.org/wiki/Logistic_map#Behavior_dependent_on_r)\n",
    "3. [Attractor](https://en.wikipedia.org/wiki/Attractor)"
   ]
  },
  {
   "cell_type": "code",
   "execution_count": 9,
   "metadata": {},
   "outputs": [
    {
     "name": "stdout",
     "output_type": "stream",
     "text": [
      "r=0.7421905331486134, x0=0.8810464824568897\n"
     ]
    },
    {
     "data": {
      "image/png": "[encoded data removed]",
      "text/plain": [
       "<Figure size 432x288 with 1 Axes>"
      ]
     },
     "metadata": {
      "needs_background": "light"
     },
     "output_type": "display_data"
    }
   ],
   "source": [
    "import matplotlib.pyplot as plt\n",
    "\n",
    "# for r < 3, x always approaches a fixed point\n",
    "\n",
    "r = uniform(0,3,1)[0]\n",
    "x0 = uniform(0,1,1)[0]\n",
    "n = 100\n",
    "x_axis = list(range(n))\n",
    "y_axis = logistic_n_times(x0,logistic,r,n)\n",
    "plt.plot(x_axis,y_axis)\n",
    "plt.xlabel('n')\n",
    "plt.ylabel(r'$x_{n}$')\n",
    "print(f\"r={r}, x0={x0}\")"
   ]
  },
  {
   "cell_type": "code",
   "execution_count": 10,
   "metadata": {},
   "outputs": [
    {
     "name": "stdout",
     "output_type": "stream",
     "text": [
      "r=3.293546921118372, x0=0.8810464824568897\n"
     ]
    },
    {
     "data": {
      "image/png": "[encoded data removed]",
      "text/plain": [
       "<Figure size 432x288 with 1 Axes>"
      ]
     },
     "metadata": {
      "needs_background": "light"
     },
     "output_type": "display_data"
    }
   ],
   "source": [
    "# for 3 <= r <= 3.4495, x approaches 2 fixed points and then oscilates between them\n",
    "end = 1+math.sqrt(6)\n",
    "r= uniform(3.0,end,1)[0]\n",
    "n = 100\n",
    "x_axis = list(range(n))\n",
    "y_axis = logistic_n_times(x0,logistic,r,n)\n",
    "plt.plot(x_axis,y_axis)\n",
    "plt.xlabel('n')\n",
    "plt.ylabel(r'$x_{n}$')\n",
    "print(f\"r={r}, x0={x0}\")"
   ]
  },
  {
   "cell_type": "code",
   "execution_count": 14,
   "metadata": {},
   "outputs": [
    {
     "name": "stdout",
     "output_type": "stream",
     "text": [
      "r=3.956837942709558, x0=0.8810464824568897\n"
     ]
    },
    {
     "data": {
      "image/png": "[encoded data removed]",
      "text/plain": [
       "<Figure size 432x288 with 1 Axes>"
      ]
     },
     "metadata": {
      "needs_background": "light"
     },
     "output_type": "display_data"
    }
   ],
   "source": [
    "# for r > 3.4495, the number of fixed point increases from 4, 8 16 to total chaos that x becomes very unpredictable\n",
    "start = 1+math.sqrt(6)\n",
    "r= uniform(start,4.0,1)[0]\n",
    "n = 150\n",
    "x_axis = list(range(n))\n",
    "y_axis = logistic_n_times(x0,logistic,r,n)\n",
    "plt.plot(x_axis,y_axis)\n",
    "plt.xlabel('n')\n",
    "plt.ylabel(r'$x_{n}$')\n",
    "print(f\"r={r}, x0={x0}\")"
   ]
  },
  {
   "cell_type": "markdown",
   "metadata": {},
   "source": [
    "# Exercise 5 (stretch): Famous Chaos Theory Plot \n",
    "\n",
    "There is a famous plot in chaos theory of the logistic map that relates values of the attractors in $x_t$ for values of $r$, detailing where the function tends to \"end up\" for each value of $r$.\n",
    "\n",
    "<img src=\"logistic map.png\" style=\"width: 400px;\">\n",
    "\n",
    "Reproduce this plot using the `matplotlib` package.\n",
    "\n",
    "**Hint:** Produce samples from the function to fill arrays on the x and y axis!\n",
    "\n",
    "**Hint:** Take the final 50 values in a series of data points produced by the function!"
   ]
  },
  {
   "cell_type": "code",
   "execution_count": null,
   "metadata": {},
   "outputs": [],
   "source": []
  }
 ],
 "metadata": {
  "colab": {
   "authorship_tag": "ABX9TyO6ouX4mUPsrtNoh84NFVy3",
   "collapsed_sections": [],
   "name": "Workshop Functions.ipynb",
   "provenance": []
  },
  "kernelspec": {
   "display_name": "Python 3",
   "language": "python",
   "name": "python3"
  },
  "language_info": {
   "codemirror_mode": {
    "name": "ipython",
    "version": 3
   },
   "file_extension": ".py",
   "mimetype": "text/x-python",
   "name": "python",
   "nbconvert_exporter": "python",
   "pygments_lexer": "ipython3",
   "version": "3.8.3"
  }
 },
 "nbformat": 4,
 "nbformat_minor": 1
}
